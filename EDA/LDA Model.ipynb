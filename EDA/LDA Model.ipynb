{
 "cells": [
  {
   "cell_type": "code",
   "execution_count": 1,
   "metadata": {},
   "outputs": [],
   "source": [
    "import pandas as pd\n",
    "import matplotlib.pyplot as plt\n",
    "import nltk\n",
    "import os\n",
    "import math\n",
    "import warnings\n",
    "warnings.simplefilter(action='ignore', category=FutureWarning)"
   ]
  },
  {
   "cell_type": "markdown",
   "metadata": {},
   "source": [
    "## Read Data"
   ]
  },
  {
   "cell_type": "code",
   "execution_count": 2,
   "metadata": {},
   "outputs": [],
   "source": [
    "df = pd.read_csv('IMDB Dataset.csv')"
   ]
  },
  {
   "cell_type": "code",
   "execution_count": 3,
   "metadata": {},
   "outputs": [
    {
     "data": {
      "text/html": [
       "<div>\n",
       "<style scoped>\n",
       "    .dataframe tbody tr th:only-of-type {\n",
       "        vertical-align: middle;\n",
       "    }\n",
       "\n",
       "    .dataframe tbody tr th {\n",
       "        vertical-align: top;\n",
       "    }\n",
       "\n",
       "    .dataframe thead th {\n",
       "        text-align: right;\n",
       "    }\n",
       "</style>\n",
       "<table border=\"1\" class=\"dataframe\">\n",
       "  <thead>\n",
       "    <tr style=\"text-align: right;\">\n",
       "      <th></th>\n",
       "      <th>review</th>\n",
       "      <th>sentiment</th>\n",
       "    </tr>\n",
       "  </thead>\n",
       "  <tbody>\n",
       "    <tr>\n",
       "      <th>0</th>\n",
       "      <td>One of the other reviewers has mentioned that ...</td>\n",
       "      <td>positive</td>\n",
       "    </tr>\n",
       "    <tr>\n",
       "      <th>1</th>\n",
       "      <td>A wonderful little production. &lt;br /&gt;&lt;br /&gt;The...</td>\n",
       "      <td>positive</td>\n",
       "    </tr>\n",
       "  </tbody>\n",
       "</table>\n",
       "</div>"
      ],
      "text/plain": [
       "                                              review sentiment\n",
       "0  One of the other reviewers has mentioned that ...  positive\n",
       "1  A wonderful little production. <br /><br />The...  positive"
      ]
     },
     "execution_count": 3,
     "metadata": {},
     "output_type": "execute_result"
    }
   ],
   "source": [
    "df.head(2)"
   ]
  },
  {
   "cell_type": "markdown",
   "metadata": {},
   "source": [
    "## Text Preprocessing"
   ]
  },
  {
   "cell_type": "code",
   "execution_count": 4,
   "metadata": {},
   "outputs": [],
   "source": [
    "# Convert positive to 1 and negative to 0\n",
    "from sklearn.preprocessing import OrdinalEncoder\n",
    "\n",
    "ordinal_encoder = OrdinalEncoder()\n",
    "df_num = ordinal_encoder.fit_transform(df[['sentiment']])\n",
    "df['num_sentiment'] = df_num"
   ]
  },
  {
   "cell_type": "code",
   "execution_count": 5,
   "metadata": {},
   "outputs": [],
   "source": [
    "df.drop(['sentiment'], axis=1, inplace=True)"
   ]
  },
  {
   "cell_type": "code",
   "execution_count": 6,
   "metadata": {},
   "outputs": [
    {
     "data": {
      "text/html": [
       "<div>\n",
       "<style scoped>\n",
       "    .dataframe tbody tr th:only-of-type {\n",
       "        vertical-align: middle;\n",
       "    }\n",
       "\n",
       "    .dataframe tbody tr th {\n",
       "        vertical-align: top;\n",
       "    }\n",
       "\n",
       "    .dataframe thead th {\n",
       "        text-align: right;\n",
       "    }\n",
       "</style>\n",
       "<table border=\"1\" class=\"dataframe\">\n",
       "  <thead>\n",
       "    <tr style=\"text-align: right;\">\n",
       "      <th></th>\n",
       "      <th>review</th>\n",
       "      <th>num_sentiment</th>\n",
       "    </tr>\n",
       "  </thead>\n",
       "  <tbody>\n",
       "    <tr>\n",
       "      <th>0</th>\n",
       "      <td>One of the other reviewers has mentioned that ...</td>\n",
       "      <td>1.0</td>\n",
       "    </tr>\n",
       "    <tr>\n",
       "      <th>1</th>\n",
       "      <td>A wonderful little production. &lt;br /&gt;&lt;br /&gt;The...</td>\n",
       "      <td>1.0</td>\n",
       "    </tr>\n",
       "  </tbody>\n",
       "</table>\n",
       "</div>"
      ],
      "text/plain": [
       "                                              review  num_sentiment\n",
       "0  One of the other reviewers has mentioned that ...            1.0\n",
       "1  A wonderful little production. <br /><br />The...            1.0"
      ]
     },
     "execution_count": 6,
     "metadata": {},
     "output_type": "execute_result"
    }
   ],
   "source": [
    "df.head(2)"
   ]
  },
  {
   "cell_type": "code",
   "execution_count": 7,
   "metadata": {},
   "outputs": [],
   "source": [
    "# Remove html coding\n",
    "df['review'] = df['review'].str.replace('<.*?>','')"
   ]
  },
  {
   "cell_type": "code",
   "execution_count": 8,
   "metadata": {},
   "outputs": [],
   "source": [
    "# Remove all puncuation and symbols\n",
    "df['review'] = df['review'].str.replace('[^\\w\\s]','')"
   ]
  },
  {
   "cell_type": "code",
   "execution_count": 9,
   "metadata": {},
   "outputs": [],
   "source": [
    "# Make everything lower case\n",
    "df['review'] = df['review'].str.lower()"
   ]
  },
  {
   "cell_type": "markdown",
   "metadata": {},
   "source": [
    "#### Tokenize"
   ]
  },
  {
   "cell_type": "code",
   "execution_count": 10,
   "metadata": {},
   "outputs": [],
   "source": [
    "import nltk\n",
    "w_tokenizer = nltk.tokenize.WhitespaceTokenizer()"
   ]
  },
  {
   "cell_type": "code",
   "execution_count": 11,
   "metadata": {},
   "outputs": [],
   "source": [
    "df['tokens'] = df.review.apply(lambda row: w_tokenizer.tokenize(row))"
   ]
  },
  {
   "cell_type": "markdown",
   "metadata": {},
   "source": [
    "Make a copy before we go further"
   ]
  },
  {
   "cell_type": "code",
   "execution_count": 12,
   "metadata": {},
   "outputs": [],
   "source": [
    "df_wsw = df.copy()"
   ]
  },
  {
   "cell_type": "markdown",
   "metadata": {},
   "source": [
    "## Prepare for LDA"
   ]
  },
  {
   "cell_type": "markdown",
   "metadata": {},
   "source": [
    "Code from this section was referenced from the follow sites:\n",
    "* https://rstudio-pubs-static.s3.amazonaws.com/79360_850b2a69980c4488b1db95987a24867a.html#constructing-a-document-term-matrix\n",
    "* https://towardsdatascience.com/end-to-end-topic-modeling-in-python-latent-dirichlet-allocation-lda-35ce4ed6b3e0\n",
    "* https://www.machinelearningplus.com/nlp/topic-modeling-gensim-python/#11createthedictionaryandcorpusneededfortopicmodeling"
   ]
  },
  {
   "cell_type": "code",
   "execution_count": 13,
   "metadata": {},
   "outputs": [],
   "source": [
    "from gensim import corpora, models\n",
    "from gensim.models import CoherenceModel\n",
    "from gensim.utils import simple_preprocess\n",
    "from gensim.models.wrappers import LdaMallet\n",
    "import gensim\n",
    "from pprint import pprint"
   ]
  },
  {
   "cell_type": "code",
   "execution_count": 14,
   "metadata": {},
   "outputs": [],
   "source": [
    "bigram = gensim.models.Phrases(df_wsw['tokens'], min_count=5, threshold=100) # higher threshold fewer phrases.\n",
    "trigram = gensim.models.Phrases(bigram[df_wsw['tokens']], threshold=100) "
   ]
  },
  {
   "cell_type": "code",
   "execution_count": 15,
   "metadata": {},
   "outputs": [],
   "source": [
    "bigram_mod = gensim.models.phrases.Phraser(bigram)\n",
    "trigram_mod = gensim.models.phrases.Phraser(trigram)"
   ]
  },
  {
   "cell_type": "code",
   "execution_count": 16,
   "metadata": {},
   "outputs": [
    {
     "name": "stdout",
     "output_type": "stream",
     "text": [
      "['one', 'of', 'the', 'other', 'reviewers', 'has', 'mentioned', 'that', 'after', 'watching', 'just', '1', 'oz', 'episode', 'youll', 'be', 'hooked', 'they', 'are', 'right', 'as', 'this', 'is', 'exactly', 'what', 'happened', 'with', 'methe', 'first', 'thing', 'that', 'struck', 'me', 'about', 'oz', 'was', 'its', 'brutality', 'and', 'unflinching', 'scenes', 'of', 'violence', 'which', 'set', 'in', 'right', 'from', 'the', 'word', 'go', 'trust', 'me', 'this', 'is', 'not', 'a', 'show', 'for', 'the', 'faint', 'hearted', 'or', 'timid', 'this', 'show', 'pulls', 'no', 'punches', 'with', 'regards', 'to', 'drugs', 'sex', 'or', 'violence', 'its', 'is', 'hardcore', 'in', 'the', 'classic', 'use', 'of', 'the', 'wordit', 'is', 'called', 'oz', 'as', 'that', 'is', 'the', 'nickname', 'given', 'to', 'the', 'oswald', 'maximum_security', 'state', 'penitentary', 'it', 'focuses', 'mainly', 'on', 'emerald', 'city', 'an', 'experimental', 'section', 'of', 'the', 'prison', 'where', 'all', 'the', 'cells', 'have', 'glass', 'fronts', 'and', 'face', 'inwards', 'so', 'privacy', 'is', 'not', 'high', 'on', 'the', 'agenda', 'em', 'city', 'is', 'home', 'to', 'manyaryans', 'muslims', 'gangstas', 'latinos', 'christians', 'italians', 'irish', 'and', 'moreso', 'scuffles', 'death', 'stares', 'dodgy', 'dealings', 'and', 'shady', 'agreements', 'are', 'never', 'far', 'awayi', 'would', 'say', 'the', 'main', 'appeal', 'of', 'the', 'show', 'is', 'due', 'to', 'the', 'fact', 'that', 'it', 'goes', 'where', 'other', 'shows', 'wouldnt', 'dare', 'forget', 'pretty', 'pictures', 'painted', 'for', 'mainstream', 'audiences', 'forget', 'charm', 'forget', 'romanceoz', 'doesnt', 'mess', 'around', 'the', 'first', 'episode', 'i', 'ever', 'saw', 'struck', 'me', 'as', 'so', 'nasty', 'it', 'was', 'surreal', 'i', 'couldnt', 'say', 'i', 'was', 'ready', 'for', 'it', 'but', 'as', 'i', 'watched', 'more', 'i', 'developed', 'a', 'taste', 'for', 'oz', 'and', 'got', 'accustomed', 'to', 'the', 'high', 'levels', 'of', 'graphic_violence', 'not', 'just', 'violence', 'but', 'injustice', 'crooked', 'guards', 'wholl', 'be', 'sold', 'out', 'for', 'a', 'nickel', 'inmates', 'wholl', 'kill', 'on', 'order', 'and', 'get', 'away', 'with', 'it', 'well', 'mannered', 'middle_class', 'inmates', 'being', 'turned', 'into', 'prison', 'bitches', 'due', 'to', 'their', 'lack', 'of', 'street', 'skills', 'or', 'prison', 'experience', 'watching', 'oz', 'you', 'may', 'become', 'comfortable', 'with', 'what', 'is', 'uncomfortable', 'viewingthats', 'if', 'you', 'can', 'get', 'in', 'touch', 'with', 'your', 'darker_side']\n"
     ]
    }
   ],
   "source": [
    "# Example\n",
    "print(trigram_mod[bigram_mod[df_wsw['tokens'][0]]])"
   ]
  },
  {
   "cell_type": "markdown",
   "metadata": {},
   "source": [
    "#### Remove Stopwords"
   ]
  },
  {
   "cell_type": "code",
   "execution_count": 17,
   "metadata": {},
   "outputs": [],
   "source": [
    "# Remove stop words\n",
    "import spacy\n",
    "\n",
    "sp = spacy.load('en_core_web_sm', disable=['parser', 'ner'])\n",
    "all_stopwords = sp.Defaults.stop_words\n",
    "# # After seeing the word counts, update stop words\n",
    "sp.Defaults.stop_words |= {'movie', 'film'}"
   ]
  },
  {
   "cell_type": "code",
   "execution_count": 18,
   "metadata": {},
   "outputs": [],
   "source": [
    "all_stopwords.remove('not')"
   ]
  },
  {
   "cell_type": "code",
   "execution_count": 19,
   "metadata": {},
   "outputs": [],
   "source": [
    "# Define functions for stopwords, bigrams, trigrams and lemmatization\n",
    "def remove_stopwords(texts):\n",
    "    return [[word for word in simple_preprocess(str(doc)) if word not in all_stopwords] for doc in texts]\n",
    "\n",
    "def make_bigrams(texts):\n",
    "    return [bigram_mod[doc] for doc in texts]\n",
    "\n",
    "def make_trigrams(texts):\n",
    "    return [trigram_mod[bigram_mod[doc]] for doc in texts]\n",
    "\n",
    "def lemmatization(texts, allowed_postags=['NOUN', 'ADJ', 'VERB', 'ADV']):\n",
    "    \"\"\"https://spacy.io/api/annotation\"\"\"\n",
    "    texts_out = []\n",
    "    for sent in texts:\n",
    "        doc = sp(\" \".join(sent)) \n",
    "        texts_out.append([token.lemma_ for token in doc if token.pos_ in allowed_postags])\n",
    "    return texts_out"
   ]
  },
  {
   "cell_type": "code",
   "execution_count": 20,
   "metadata": {},
   "outputs": [
    {
     "name": "stdout",
     "output_type": "stream",
     "text": [
      "[['reviewer', 'mention', 'watch', 'episode', 'hooked', 'right', 'exactly', 'happen', 'thing', 'strike', 'brutality', 'unflinche', 'scene', 'violence', 'set', 'right', 'word', 'trust', 'faint', 'hearted', 'timid', 'pull', 'punch', 'regard', 'drug', 'sex', 'violence', 'hardcore', 'classic', 'use', 'wordit', 'call', 'nickname', 'give', 'oswald', 'maximum_security', 'state', 'penitentary', 'focus', 'mainly', 'emerald', 'city', 'experimental', 'section', 'prison', 'cell', 'glass', 'front', 'face', 'privacy', 'high', 'agenda', 'city', 'home', 'manyaryan', 'muslim', 'gangsta', 'latinos', 'christian', 'italian', 'irish', 'moreso', 'scuffle', 'death', 'stare', 'dodgy', 'dealing', 'shady', 'agreement', 'far', 'awayi', 'main', 'appeal', 'fact', 'go', 'show', 'dare', 'forget', 'pretty', 'picture', 'paint', 'mainstream', 'audience', 'forget', 'charm', 'forget', 'romanceoz', 'do', 'mess', 'episode', 'see', 'strike', 'nasty', 'surreal', 'ready', 'watch', 'developed', 'taste', 'get', 'accustom', 'high', 'level', 'graphic_violence', 'violence', 'injustice', 'crooked', 'guard', 'sell', 'nickel', 'inmate', 'kill', 'order', 'away', 'mannered', 'middle_class', 'inmate', 'turn', 'prison', 'bitch', 'lack', 'street', 'skill', 'prison', 'experience', 'watch', 'comfortable', 'uncomfortable', 'viewingthat', 'touch', 'dark']]\n"
     ]
    }
   ],
   "source": [
    "# Remove Stop Words\n",
    "no_stops = remove_stopwords(df_wsw['tokens'])\n",
    "\n",
    "# Form Bigrams\n",
    "no_stops_bigrams = make_bigrams(no_stops)\n",
    "\n",
    "# Do lemmatization keeping only noun, adj, vb, adv\n",
    "data_lemmatized = lemmatization(no_stops_bigrams, allowed_postags=['NOUN', 'ADJ', 'VERB', 'ADV'])\n",
    "\n",
    "print(data_lemmatized[:1])"
   ]
  },
  {
   "cell_type": "code",
   "execution_count": 21,
   "metadata": {},
   "outputs": [],
   "source": [
    "# Create Dictionary\n",
    "id2word = corpora.Dictionary(data_lemmatized)"
   ]
  },
  {
   "cell_type": "code",
   "execution_count": 22,
   "metadata": {},
   "outputs": [],
   "source": [
    "# Create Corpus\n",
    "texts = data_lemmatized"
   ]
  },
  {
   "cell_type": "code",
   "execution_count": 23,
   "metadata": {},
   "outputs": [
    {
     "name": "stdout",
     "output_type": "stream",
     "text": [
      "[[(0, 1), (1, 1), (2, 1), (3, 1), (4, 1), (5, 1), (6, 1), (7, 1), (8, 1), (9, 1), (10, 1), (11, 1), (12, 1), (13, 2), (14, 1), (15, 1), (16, 1), (17, 1), (18, 1), (19, 1), (20, 1), (21, 1), (22, 1), (23, 1), (24, 1), (25, 1), (26, 2), (27, 1), (28, 1), (29, 1), (30, 1), (31, 1), (32, 1), (33, 1), (34, 1), (35, 3), (36, 1), (37, 1), (38, 1), (39, 1), (40, 1), (41, 1), (42, 1), (43, 1), (44, 1), (45, 1), (46, 1), (47, 2), (48, 1), (49, 1), (50, 1), (51, 2), (52, 1), (53, 1), (54, 1), (55, 1), (56, 1), (57, 1), (58, 1), (59, 1), (60, 1), (61, 1), (62, 1), (63, 1), (64, 1), (65, 1), (66, 1), (67, 1), (68, 1), (69, 1), (70, 1), (71, 1), (72, 1), (73, 1), (74, 1), (75, 1), (76, 1), (77, 1), (78, 3), (79, 1), (80, 1), (81, 1), (82, 1), (83, 1), (84, 1), (85, 2), (86, 1), (87, 1), (88, 1), (89, 1), (90, 1), (91, 1), (92, 1), (93, 1), (94, 1), (95, 1), (96, 1), (97, 1), (98, 1), (99, 1), (100, 2), (101, 1), (102, 1), (103, 1), (104, 1), (105, 1), (106, 1), (107, 1), (108, 1), (109, 1), (110, 1), (111, 1), (112, 3), (113, 3), (114, 1), (115, 1)]]\n"
     ]
    }
   ],
   "source": [
    "# Term Document Frequency\n",
    "corpus = [id2word.doc2bow(text) for text in texts]\n",
    "print(corpus[:1])"
   ]
  },
  {
   "cell_type": "code",
   "execution_count": 24,
   "metadata": {},
   "outputs": [],
   "source": [
    "# Build LDA model\n",
    "lda_model = gensim.models.ldamodel.LdaModel(corpus=corpus, id2word=id2word, num_topics=20, random_state=42,\n",
    "                                           update_every=1, chunksize=100, passes=10, alpha='auto', per_word_topics=True)"
   ]
  },
  {
   "cell_type": "code",
   "execution_count": 25,
   "metadata": {},
   "outputs": [
    {
     "name": "stdout",
     "output_type": "stream",
     "text": [
      "[(0,\n",
      "  '0.090*\"woman\" + 0.076*\"horror\" + 0.027*\"favorite\" + 0.025*\"killer\" + '\n",
      "  '0.023*\"sad\" + 0.022*\"female\" + 0.022*\"general\" + 0.021*\"hilarious\" + '\n",
      "  '0.019*\"victim\" + 0.018*\"soundtrack\"'),\n",
      " (1,\n",
      "  '0.097*\"dead\" + 0.063*\"body\" + 0.042*\"doctor\" + 0.030*\"scientist\" + '\n",
      "  '0.025*\"naked\" + 0.023*\"attractive\" + 0.021*\"sport\" + 0.021*\"religious\" + '\n",
      "  '0.018*\"church\" + 0.017*\"australian\"'),\n",
      " (2,\n",
      "  '0.035*\"local\" + 0.031*\"remain\" + 0.026*\"student\" + 0.026*\"animal\" + '\n",
      "  '0.025*\"fantasy\" + 0.025*\"particular\" + 0.021*\"sadly\" + 0.018*\"study\" + '\n",
      "  '0.018*\"appearance\" + 0.018*\"club\"'),\n",
      " (3,\n",
      "  '0.068*\"british\" + 0.047*\"indian\" + 0.033*\"brief\" + 0.029*\"joe\" + '\n",
      "  '0.027*\"plane\" + 0.026*\"favor\" + 0.023*\"vhs\" + 0.023*\"network\" + '\n",
      "  '0.022*\"price\" + 0.019*\"subtitle\"'),\n",
      " (4,\n",
      "  '0.221*\"comedy\" + 0.067*\"career\" + 0.047*\"entertain\" + 0.044*\"match\" + '\n",
      "  '0.032*\"studio\" + 0.027*\"decade\" + 0.025*\"tom\" + 0.020*\"buddy\" + '\n",
      "  '0.018*\"slapstick\" + 0.017*\"nazi\"'),\n",
      " (5,\n",
      "  '0.065*\"family\" + 0.045*\"wife\" + 0.042*\"war\" + 0.040*\"father\" + '\n",
      "  '0.040*\"american\" + 0.035*\"mother\" + 0.027*\"son\" + 0.026*\"daughter\" + '\n",
      "  '0.023*\"today\" + 0.023*\"city\"'),\n",
      " (6,\n",
      "  '0.092*\"rock\" + 0.046*\"trick\" + 0.036*\"belong\" + 0.034*\"negative\" + '\n",
      "  '0.033*\"stone\" + 0.032*\"system\" + 0.031*\"trap\" + 0.019*\"pet\" + '\n",
      "  '0.018*\"previously\" + 0.015*\"ease\"'),\n",
      " (7,\n",
      "  '0.053*\"group\" + 0.040*\"imagine\" + 0.036*\"tale\" + 0.035*\"space\" + '\n",
      "  '0.033*\"alien\" + 0.028*\"air\" + 0.025*\"jack\" + 0.023*\"island\" + 0.022*\"dr\" + '\n",
      "  '0.021*\"band\"'),\n",
      " (8,\n",
      "  '0.100*\"bad\" + 0.088*\"s\" + 0.034*\"guy\" + 0.033*\"funny\" + 0.028*\"pretty\" + '\n",
      "  '0.027*\"kill\" + 0.027*\"laugh\" + 0.025*\"kid\" + 0.023*\"re\" + 0.022*\"fun\"'),\n",
      " (9,\n",
      "  '0.065*\"emotion\" + 0.048*\"awesome\" + 0.041*\"smile\" + 0.040*\"genius\" + '\n",
      "  '0.035*\"porn\" + 0.021*\"brilliantly\" + 0.021*\"thoroughly\" + 0.020*\"twice\" + '\n",
      "  '0.019*\"intense\" + 0.018*\"bug\"'),\n",
      " (10,\n",
      "  '0.024*\"good\" + 0.022*\"do\" + 0.019*\"time\" + 0.017*\"watch\" + '\n",
      "  '0.016*\"character\" + 0.016*\"see\" + 0.015*\"story\" + 0.014*\"think\" + '\n",
      "  '0.013*\"scene\" + 0.012*\"look\"'),\n",
      " (11,\n",
      "  '0.061*\"easily\" + 0.055*\"dull\" + 0.040*\"positive\" + 0.032*\"silent\" + '\n",
      "  '0.030*\"flat\" + 0.026*\"cross\" + 0.023*\"super\" + 0.021*\"model\" + '\n",
      "  '0.021*\"store\" + 0.020*\"summer\"'),\n",
      " (12,\n",
      "  '0.051*\"action\" + 0.035*\"understand\" + 0.034*\"excellent\" + 0.033*\"fight\" + '\n",
      "  '0.029*\"perfect\" + 0.025*\"sequence\" + 0.025*\"drama\" + 0.019*\"score\" + '\n",
      "  '0.018*\"extremely\" + 0.017*\"theme\"'),\n",
      " (13,\n",
      "  '0.049*\"italian\" + 0.048*\"artist\" + 0.046*\"explore\" + 0.038*\"sea\" + '\n",
      "  '0.032*\"loss\" + 0.024*\"consequence\" + 0.020*\"summary\" + 0.017*\"married\" + '\n",
      "  '0.016*\"anna\" + 0.015*\"construct\"'),\n",
      " (14,\n",
      "  '0.191*\"book\" + 0.091*\"game\" + 0.073*\"important\" + 0.073*\"novel\" + '\n",
      "  '0.029*\"medium\" + 0.023*\"castle\" + 0.023*\"comedic\" + 0.019*\"football\" + '\n",
      "  '0.018*\"johnson\" + 0.015*\"excitement\"'),\n",
      " (15,\n",
      "  '0.020*\"play\" + 0.018*\"man\" + 0.017*\"life\" + 0.015*\"find\" + 0.013*\"year\" + '\n",
      "  '0.013*\"take\" + 0.012*\"show\" + 0.011*\"old\" + 0.010*\"give\" + 0.010*\"role\"'),\n",
      " (16,\n",
      "  '0.044*\"black\" + 0.032*\"white\" + 0.032*\"car\" + 0.031*\"evil\" + '\n",
      "  '0.029*\"brother\" + 0.028*\"hero\" + 0.026*\"sister\" + 0.018*\"beat\" + '\n",
      "  '0.015*\"george\" + 0.015*\"sorry\"'),\n",
      " (17,\n",
      "  '0.113*\"gore\" + 0.109*\"bother\" + 0.029*\"accidentally\" + 0.018*\"tame\" + '\n",
      "  '0.013*\"bimbo\" + 0.011*\"unwatchable\" + 0.010*\"excessive\" + 0.010*\"awake\" + '\n",
      "  '0.008*\"cameo_appearance\" + 0.005*\"fulci\"'),\n",
      " (18,\n",
      "  '0.154*\"talent\" + 0.067*\"baby\" + 0.066*\"bill\" + 0.051*\"insult\" + '\n",
      "  '0.021*\"accuse\" + 0.021*\"edward\" + 0.015*\"motion\" + 0.013*\"astronaut\" + '\n",
      "  '0.002*\"nasa\" + 0.001*\"emmy\"'),\n",
      " (19,\n",
      "  '0.047*\"clever\" + 0.044*\"red\" + 0.040*\"list\" + 0.028*\"mainly\" + 0.028*\"epic\" '\n",
      "  '+ 0.025*\"lord\" + 0.022*\"switch\" + 0.022*\"tune\" + 0.020*\"ai\" + '\n",
      "  '0.020*\"extreme\"')]\n"
     ]
    }
   ],
   "source": [
    "pprint(lda_model.print_topics())"
   ]
  },
  {
   "cell_type": "markdown",
   "metadata": {},
   "source": [
    "## Coherence Score"
   ]
  },
  {
   "cell_type": "code",
   "execution_count": 26,
   "metadata": {},
   "outputs": [
    {
     "name": "stdout",
     "output_type": "stream",
     "text": [
      "\n",
      "Coherence Score:  0.27144113273013215\n"
     ]
    }
   ],
   "source": [
    "# Compute Coherence Score\n",
    "coherence_model_lda = CoherenceModel(model=lda_model, texts=data_lemmatized, dictionary=id2word, coherence='c_v')\n",
    "coherence_lda = coherence_model_lda.get_coherence()\n",
    "print('\\nCoherence Score: ', coherence_lda)"
   ]
  },
  {
   "cell_type": "markdown",
   "metadata": {},
   "source": [
    "### Our Coherence Score is low. Find the optimal number of topics."
   ]
  },
  {
   "cell_type": "code",
   "execution_count": 27,
   "metadata": {},
   "outputs": [],
   "source": [
    "def compute_coherence_values(dictionary, corpus, texts, limit, start=2, step=3):\n",
    "    \"\"\"\n",
    "    Compute c_v coherence for various number of topics\n",
    "\n",
    "    Parameters:\n",
    "    ----------\n",
    "    dictionary : Gensim dictionary\n",
    "    corpus : Gensim corpus\n",
    "    texts : List of input texts\n",
    "    limit : Max num of topics\n",
    "\n",
    "    Returns:\n",
    "    -------\n",
    "    model_list : List of LDA topic models\n",
    "    coherence_values : Coherence values corresponding to the LDA model with respective number of topics\n",
    "    \"\"\"\n",
    "    coherence_values = []\n",
    "    model_list = []\n",
    "    for num_topics in range(start, limit, step):\n",
    "        model = gensim.models.ldamodel.LdaModel(corpus=corpus, id2word=id2word, num_topics=num_topics,\n",
    "                                           update_every=1, chunksize=100, alpha='auto', per_word_topics=True)\n",
    "        model_list.append(model)\n",
    "        coherencemodel = CoherenceModel(model=model, texts=texts, dictionary=dictionary, coherence='c_v')\n",
    "        coherence_values.append(coherencemodel.get_coherence())\n",
    "\n",
    "    return model_list, coherence_values"
   ]
  },
  {
   "cell_type": "code",
   "execution_count": 28,
   "metadata": {},
   "outputs": [],
   "source": [
    "model_list, coherence_values = compute_coherence_values(dictionary=id2word, corpus=corpus, \n",
    "                                                        texts=data_lemmatized, start=2, limit=40, step=6)"
   ]
  },
  {
   "cell_type": "code",
   "execution_count": 29,
   "metadata": {},
   "outputs": [
    {
     "data": {
      "image/png": "[encoded data removed]",
      "text/plain": [
       "<Figure size 432x288 with 1 Axes>"
      ]
     },
     "metadata": {
      "needs_background": "light"
     },
     "output_type": "display_data"
    }
   ],
   "source": [
    "# Show graph\n",
    "limit=40; start=2; step=6;\n",
    "x = range(start, limit, step)\n",
    "plt.plot(x, coherence_values)\n",
    "plt.title('Both Sentiments')\n",
    "plt.xlabel(\"Num Topics\")\n",
    "plt.ylabel(\"Coherence score\")\n",
    "plt.legend((\"coherence_values\"), loc='best')\n",
    "plt.show()"
   ]
  },
  {
   "cell_type": "code",
   "execution_count": 30,
   "metadata": {},
   "outputs": [
    {
     "name": "stdout",
     "output_type": "stream",
     "text": [
      "Num Topics = 2  has Coherence Value of 0.3209\n",
      "Num Topics = 8  has Coherence Value of 0.3577\n",
      "Num Topics = 14  has Coherence Value of 0.3229\n",
      "Num Topics = 20  has Coherence Value of 0.2834\n",
      "Num Topics = 26  has Coherence Value of 0.2885\n",
      "Num Topics = 32  has Coherence Value of 0.2758\n",
      "Num Topics = 38  has Coherence Value of 0.2799\n"
     ]
    }
   ],
   "source": [
    "# Print the coherence scores\n",
    "for m, cv in zip(x, coherence_values):\n",
    "    print(\"Num Topics =\", m, \" has Coherence Value of\", round(cv, 4))"
   ]
  },
  {
   "cell_type": "code",
   "execution_count": 41,
   "metadata": {},
   "outputs": [],
   "source": [
    "# Build LDA model\n",
    "lda_model = gensim.models.ldamodel.LdaModel(corpus=corpus, id2word=id2word, num_topics=8, random_state=42,\n",
    "                                           update_every=1, chunksize=100, passes=10, alpha='auto', per_word_topics=True)"
   ]
  },
  {
   "cell_type": "code",
   "execution_count": 42,
   "metadata": {},
   "outputs": [
    {
     "name": "stdout",
     "output_type": "stream",
     "text": [
      "[(0,\n",
      "  '0.032*\"horror\" + 0.020*\"kill\" + 0.013*\"flick\" + 0.012*\"evil\" + '\n",
      "  '0.011*\"favorite\" + 0.010*\"sequel\" + 0.010*\"killer\" + 0.010*\"blood\" + '\n",
      "  '0.010*\"special_effect\" + 0.009*\"cheap\"'),\n",
      " (1,\n",
      "  '0.021*\"wife\" + 0.019*\"father\" + 0.017*\"house\" + 0.016*\"mother\" + '\n",
      "  '0.015*\"dead\" + 0.013*\"son\" + 0.012*\"daughter\" + 0.011*\"sister\" + '\n",
      "  '0.010*\"family\" + 0.010*\"body\"'),\n",
      " (2,\n",
      "  '0.015*\"story\" + 0.011*\"film\" + 0.010*\"man\" + 0.010*\"life\" + '\n",
      "  '0.009*\"character\" + 0.009*\"play\" + 0.007*\"love\" + 0.007*\"work\" + '\n",
      "  '0.007*\"great\" + 0.006*\"performance\"'),\n",
      " (3,\n",
      "  '0.027*\"series\" + 0.022*\"book\" + 0.021*\"episode\" + 0.010*\"game\" + '\n",
      "  '0.008*\"version\" + 0.008*\"novel\" + 0.008*\"mystery\" + 0.008*\"season\" + '\n",
      "  '0.007*\"team\" + 0.007*\"villain\"'),\n",
      " (4,\n",
      "  '0.028*\"match\" + 0.013*\"japan\" + 0.013*\"likable\" + 0.011*\"nazi\" + '\n",
      "  '0.010*\"devil\" + 0.010*\"satire\" + 0.010*\"card\" + 0.009*\"grip\" + '\n",
      "  '0.009*\"abuse\" + 0.008*\"billy\"'),\n",
      " (5,\n",
      "  '0.037*\"war\" + 0.030*\"murder\" + 0.017*\"soldier\" + 0.015*\"police\" + '\n",
      "  '0.014*\"crime\" + 0.008*\"detective\" + 0.008*\"camp\" + 0.007*\"criminal\" + '\n",
      "  '0.007*\"tom\" + 0.007*\"government\"'),\n",
      " (6,\n",
      "  '0.040*\"song\" + 0.022*\"dance\" + 0.019*\"easily\" + 0.019*\"musical\" + '\n",
      "  '0.017*\"rock\" + 0.016*\"vampire\" + 0.012*\"comic\" + 0.011*\"band\" + '\n",
      "  '0.010*\"sing\" + 0.010*\"silent\"'),\n",
      " (7,\n",
      "  '0.017*\"good\" + 0.016*\"do\" + 0.013*\"time\" + 0.012*\"watch\" + 0.011*\"see\" + '\n",
      "  '0.011*\"bad\" + 0.011*\"s\" + 0.010*\"think\" + 0.009*\"look\" + 0.008*\"know\"')]\n"
     ]
    }
   ],
   "source": [
    "pprint(lda_model.print_topics())"
   ]
  },
  {
   "cell_type": "code",
   "execution_count": 43,
   "metadata": {},
   "outputs": [
    {
     "name": "stdout",
     "output_type": "stream",
     "text": [
      "\n",
      "Coherence Score:  0.3666779420571924\n"
     ]
    }
   ],
   "source": [
    "# Compute Coherence Score\n",
    "coherence_model_lda = CoherenceModel(model=lda_model, texts=data_lemmatized, dictionary=id2word, coherence='c_v')\n",
    "coherence_lda = coherence_model_lda.get_coherence()\n",
    "print('\\nCoherence Score: ', coherence_lda)"
   ]
  },
  {
   "cell_type": "code",
   "execution_count": 44,
   "metadata": {},
   "outputs": [],
   "source": [
    "'''\n",
    "Code reference from:\n",
    "https://www.kaggle.com/kamilpolak/topic-modeling-with-lda\n",
    "'''\n",
    "\n",
    "import matplotlib.gridspec as gridspec\n",
    "k = 8\n",
    "# tweets_lda = LdaModel(corpus, num_topics = k, id2word = dictionary, passes=10)\n",
    "\n",
    "def plot_top_words(lda=lda_model, nb_topics=k, nb_words=10):\n",
    "    top_words = [[word for word,_ in lda.show_topic(topic_id, topn=50)] for topic_id in range(lda.num_topics)]\n",
    "    top_betas = [[beta for _,beta in lda.show_topic(topic_id, topn=50)] for topic_id in range(lda.num_topics)]\n",
    "\n",
    "    gs  = gridspec.GridSpec(round(math.sqrt(k))+1,round(math.sqrt(k))+1)\n",
    "    gs.update(wspace=0.5, hspace=0.5)\n",
    "    plt.figure(figsize=(20,15))\n",
    "    for i in range(nb_topics):\n",
    "        ax = plt.subplot(gs[i])\n",
    "        plt.barh(range(nb_words), top_betas[i][:nb_words], align='center',color='blue', ecolor='black')\n",
    "        ax.invert_yaxis()\n",
    "        ax.set_yticks(range(nb_words))\n",
    "        ax.set_yticklabels(top_words[i][:nb_words])\n",
    "        plt.title(\"Topic \"+str(i))"
   ]
  },
  {
   "cell_type": "code",
   "execution_count": 45,
   "metadata": {},
   "outputs": [
    {
     "data": {
      "image/png": "[encoded data removed]",
      "text/plain": [
       "<Figure size 1440x1080 with 8 Axes>"
      ]
     },
     "metadata": {
      "needs_background": "light"
     },
     "output_type": "display_data"
    }
   ],
   "source": [
    "plot_top_words()"
   ]
  },
  {
   "cell_type": "markdown",
   "metadata": {},
   "source": [
    "### Positive and Negative LDAs"
   ]
  },
  {
   "cell_type": "code",
   "execution_count": 72,
   "metadata": {},
   "outputs": [],
   "source": [
    "pos_ind = df_wsw[df_wsw['num_sentiment'] == 1.0].index.tolist()\n",
    "neg_ind = df_wsw[df_wsw['num_sentiment'] == 0.0].index.tolist()"
   ]
  },
  {
   "cell_type": "code",
   "execution_count": 73,
   "metadata": {},
   "outputs": [
    {
     "name": "stdout",
     "output_type": "stream",
     "text": [
      "[['reviewer', 'mention', 'watch', 'episode', 'hooked', 'right', 'exactly', 'happen', 'thing', 'strike', 'brutality', 'unflinche', 'scene', 'violence', 'set', 'right', 'word', 'trust', 'faint', 'hearted', 'timid', 'pull', 'punch', 'regard', 'drug', 'sex', 'violence', 'hardcore', 'classic', 'use', 'wordit', 'call', 'nickname', 'give', 'oswald', 'maximum_security', 'state', 'penitentary', 'focus', 'mainly', 'emerald', 'city', 'experimental', 'section', 'prison', 'cell', 'glass', 'front', 'face', 'privacy', 'high', 'agenda', 'city', 'home', 'manyaryan', 'muslim', 'gangsta', 'latinos', 'christian', 'italian', 'irish', 'moreso', 'scuffle', 'death', 'stare', 'dodgy', 'dealing', 'shady', 'agreement', 'far', 'awayi', 'main', 'appeal', 'fact', 'go', 'show', 'dare', 'forget', 'pretty', 'picture', 'paint', 'mainstream', 'audience', 'forget', 'charm', 'forget', 'romanceoz', 'do', 'mess', 'episode', 'see', 'strike', 'nasty', 'surreal', 'ready', 'watch', 'developed', 'taste', 'get', 'accustom', 'high', 'level', 'graphic_violence', 'violence', 'injustice', 'crooked', 'guard', 'sell', 'nickel', 'inmate', 'kill', 'order', 'away', 'mannered', 'middle_class', 'inmate', 'turn', 'prison', 'bitch', 'lack', 'street', 'skill', 'prison', 'experience', 'watch', 'comfortable', 'uncomfortable', 'viewingthat', 'touch', 'dark']]\n",
      "[['basically', 's', 'family', 'little', 'boy', 'think', 'zombie', 'closet', 'parent', 'fight', 'slow', 'suddenly', 'decide', 'rambo', 'kill', 'zombieok', 're', 'go', 'decide', 'thriller', 'drama', 'drama', 'watchable', 'parent', 'divorce', 'argue', 'real', 'life', 'jake', 'closet', 'totally', 'ruin', 'expect', 'boogeyman', 'similar', 'instead', 'watch', 'drama', 'meaningless', 'thriller', 'spot', 'play', 'parent', 'descent', 'dialog', 'shot', 'jake', 'ignore']]\n"
     ]
    }
   ],
   "source": [
    "# Remove Stop Words\n",
    "no_stops_pos=[no_stops[i] for i in pos_ind]\n",
    "no_stops_neg=[no_stops[i] for i in neg_ind]\n",
    "\n",
    "# Form Bigrams\n",
    "no_stops_bigrams_pos = make_bigrams(no_stops_pos)\n",
    "no_stops_bigrams_neg = make_bigrams(no_stops_neg)\n",
    "\n",
    "# Do lemmatization keeping only noun, adj, vb, adv\n",
    "data_lemmatized_pos = lemmatization(no_stops_bigrams_pos, allowed_postags=['NOUN', 'ADJ', 'VERB', 'ADV'])\n",
    "data_lemmatized_neg = lemmatization(no_stops_bigrams_neg, allowed_postags=['NOUN', 'ADJ', 'VERB', 'ADV'])\n",
    "\n",
    "print(data_lemmatized_pos[:1])\n",
    "print(data_lemmatized_neg[:1])"
   ]
  },
  {
   "cell_type": "code",
   "execution_count": 74,
   "metadata": {},
   "outputs": [],
   "source": [
    "# Create Dictionaries\n",
    "id2word_pos = corpora.Dictionary(data_lemmatized_pos)\n",
    "id2word_neg = corpora.Dictionary(data_lemmatized_neg)"
   ]
  },
  {
   "cell_type": "code",
   "execution_count": 75,
   "metadata": {},
   "outputs": [],
   "source": [
    "# Create Corpus\n",
    "texts_pos = data_lemmatized_pos\n",
    "texts_neg = data_lemmatized_neg"
   ]
  },
  {
   "cell_type": "code",
   "execution_count": 76,
   "metadata": {},
   "outputs": [],
   "source": [
    "# Term Document Frequency\n",
    "pos_corpus = [id2word_pos.doc2bow(text) for text in texts_pos]\n",
    "neg_corpus = [id2word_neg.doc2bow(text) for text in texts_neg]"
   ]
  },
  {
   "cell_type": "code",
   "execution_count": 99,
   "metadata": {},
   "outputs": [],
   "source": [
    "pos_model_list, pos_coherence_values = compute_coherence_values(dictionary=id2word_pos, corpus=pos_corpus, \n",
    "                                                        texts=data_lemmatized_pos, start=2, limit=20, step=4)"
   ]
  },
  {
   "cell_type": "code",
   "execution_count": 98,
   "metadata": {},
   "outputs": [],
   "source": [
    "neg_model_list, neg_coherence_values = compute_coherence_values(dictionary=id2word_neg, corpus=neg_corpus, \n",
    "                                                        texts=data_lemmatized_neg, start=2, limit=20, step=6)"
   ]
  },
  {
   "cell_type": "code",
   "execution_count": 100,
   "metadata": {},
   "outputs": [
    {
     "data": {
      "image/png": "[encoded data removed]",
      "text/plain": [
       "<Figure size 432x288 with 1 Axes>"
      ]
     },
     "metadata": {
      "needs_background": "light"
     },
     "output_type": "display_data"
    }
   ],
   "source": [
    "# Show graph\n",
    "limit=20; start=2; step=4;\n",
    "x = range(start, limit, step)\n",
    "plt.plot(x, pos_coherence_values)\n",
    "plt.title('Positive Reviews')\n",
    "plt.xlabel(\"Num Topics\")\n",
    "plt.ylabel(\"Coherence score\")\n",
    "plt.legend((\"coherence_values\"), loc='best')\n",
    "plt.show()"
   ]
  },
  {
   "cell_type": "code",
   "execution_count": 101,
   "metadata": {},
   "outputs": [
    {
     "name": "stdout",
     "output_type": "stream",
     "text": [
      "Num Topics = 2  has Coherence Value of 0.2993\n",
      "Num Topics = 6  has Coherence Value of 0.4193\n",
      "Num Topics = 10  has Coherence Value of 0.3844\n",
      "Num Topics = 14  has Coherence Value of 0.4072\n",
      "Num Topics = 18  has Coherence Value of 0.3839\n"
     ]
    }
   ],
   "source": [
    "# Print the coherence scores\n",
    "for m, cv in zip(x, pos_coherence_values):\n",
    "    print(\"Num Topics =\", m, \" has Coherence Value of\", round(cv, 4))"
   ]
  },
  {
   "cell_type": "code",
   "execution_count": 104,
   "metadata": {},
   "outputs": [],
   "source": [
    "# Build LDA model\n",
    "pos_lda_model = gensim.models.ldamodel.LdaModel(id2word=id2word_pos, corpus=pos_corpus, num_topics=6, random_state=42,\n",
    "                                           update_every=1, chunksize=100, passes=10, alpha='auto', per_word_topics=True)"
   ]
  },
  {
   "cell_type": "code",
   "execution_count": 105,
   "metadata": {},
   "outputs": [
    {
     "data": {
      "image/png": "[encoded data removed]",
      "text/plain": [
       "<Figure size 1440x1080 with 6 Axes>"
      ]
     },
     "metadata": {
      "needs_background": "light"
     },
     "output_type": "display_data"
    }
   ],
   "source": [
    "plot_top_words(lda=pos_lda_model, nb_topics=6)"
   ]
  },
  {
   "cell_type": "code",
   "execution_count": 102,
   "metadata": {},
   "outputs": [
    {
     "data": {
      "image/png": "[encoded data removed]",
      "text/plain": [
       "<Figure size 432x288 with 1 Axes>"
      ]
     },
     "metadata": {
      "needs_background": "light"
     },
     "output_type": "display_data"
    }
   ],
   "source": [
    "# Show graph\n",
    "limit=20; start=2; step=6;\n",
    "x = range(start, limit, step)\n",
    "plt.plot(x, neg_coherence_values)\n",
    "plt.title('Negative Reviews')\n",
    "plt.xlabel(\"Num Topics\")\n",
    "plt.ylabel(\"Coherence score\")\n",
    "plt.legend((\"coherence_values\"), loc='best')\n",
    "plt.show()"
   ]
  },
  {
   "cell_type": "code",
   "execution_count": 103,
   "metadata": {},
   "outputs": [
    {
     "name": "stdout",
     "output_type": "stream",
     "text": [
      "Num Topics = 2  has Coherence Value of 0.3117\n",
      "Num Topics = 8  has Coherence Value of 0.3396\n",
      "Num Topics = 14  has Coherence Value of 0.3534\n"
     ]
    }
   ],
   "source": [
    "# Print the coherence scores\n",
    "for m, cv in zip(x, neg_coherence_values):\n",
    "    print(\"Num Topics =\", m, \" has Coherence Value of\", round(cv, 4))"
   ]
  },
  {
   "cell_type": "code",
   "execution_count": 106,
   "metadata": {},
   "outputs": [],
   "source": [
    "# Build LDA model - We'll use 8 topics so that it is more comparable to postive model\n",
    "neg_lda_model = gensim.models.ldamodel.LdaModel(id2word=id2word_neg, corpus=neg_corpus, num_topics=8, random_state=42,\n",
    "                                           update_every=1, chunksize=100, passes=10, alpha='auto', per_word_topics=True)"
   ]
  },
  {
   "cell_type": "code",
   "execution_count": 107,
   "metadata": {},
   "outputs": [
    {
     "data": {
      "image/png": "[encoded data removed]",
      "text/plain": [
       "<Figure size 1440x1080 with 8 Axes>"
      ]
     },
     "metadata": {
      "needs_background": "light"
     },
     "output_type": "display_data"
    }
   ],
   "source": [
    "plot_top_words(lda=neg_lda_model, nb_topics=8)"
   ]
  },
  {
   "cell_type": "code",
   "execution_count": null,
   "metadata": {},
   "outputs": [],
   "source": []
  }
 ],
 "metadata": {
  "kernelspec": {
   "display_name": "Python 3",
   "language": "python",
   "name": "python3"
  },
  "language_info": {
   "codemirror_mode": {
    "name": "ipython",
    "version": 3
   },
   "file_extension": ".py",
   "mimetype": "text/x-python",
   "name": "python",
   "nbconvert_exporter": "python",
   "pygments_lexer": "ipython3",
   "version": "3.8.2"
  }
 },
 "nbformat": 4,
 "nbformat_minor": 4
}
